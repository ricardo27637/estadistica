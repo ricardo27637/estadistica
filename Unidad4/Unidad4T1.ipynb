{
  "nbformat": 4,
  "nbformat_minor": 0,
  "metadata": {
    "colab": {
      "provenance": [],
      "authorship_tag": "ABX9TyNegu+coHYBYWdb+rCXVo3q",
      "include_colab_link": true
    },
    "kernelspec": {
      "name": "python3",
      "display_name": "Python 3"
    },
    "language_info": {
      "name": "python"
    }
  },
  "cells": [
    {
      "cell_type": "markdown",
      "metadata": {
        "id": "view-in-github",
        "colab_type": "text"
      },
      "source": [
        "<a href=\"https://colab.research.google.com/github/ricardo27637/estadistica/blob/main/Unidad4/Unidad4T1.ipynb\" target=\"_parent\"><img src=\"https://colab.research.google.com/assets/colab-badge.svg\" alt=\"Open In Colab\"/></a>"
      ]
    },
    {
      "cell_type": "code",
      "execution_count": 1,
      "metadata": {
        "colab": {
          "base_uri": "https://localhost:8080/"
        },
        "id": "eK3Zdnmu-1i7",
        "outputId": "3dfd9f71-11a2-4cd5-c6c0-ac80528cb825"
      },
      "outputs": [
        {
          "output_type": "stream",
          "name": "stdout",
          "text": [
            "La probabilidad de que un estudiante pese más de 68 kg y menos de 72 kg es: 0.3829\n",
            "El número de estudiantes que pesan más de 68 kg y menos de 72 kg es: 191\n"
          ]
        }
      ],
      "source": [
        "import scipy.stats as stats\n",
        "\n",
        "# Datos del problema\n",
        "media = 70\n",
        "desviacion_estandar = 4\n",
        "total_estudiantes = 500\n",
        "\n",
        "# Calculamos la probabilidad P(68 < X < 72)\n",
        "probabilidad = stats.norm.cdf(72, loc=media, scale=desviacion_estandar) - stats.norm.cdf(68, loc=media, scale=desviacion_estandar)\n",
        "\n",
        "# Calculamos el número de estudiantes\n",
        "numero_estudiantes = probabilidad * total_estudiantes\n",
        "\n",
        "# Mostramos los resultados\n",
        "print(f\"La probabilidad de que un estudiante pese más de 68 kg y menos de 72 kg es: {probabilidad:.4f}\")\n",
        "print(f\"El número de estudiantes que pesan más de 68 kg y menos de 72 kg es: {round(numero_estudiantes)}\")"
      ]
    }
  ]
}