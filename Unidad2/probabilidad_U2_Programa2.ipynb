{
  "nbformat": 4,
  "nbformat_minor": 0,
  "metadata": {
    "colab": {
      "provenance": [],
      "authorship_tag": "ABX9TyN9lmaR3oxBYECMjEGLGOC9",
      "include_colab_link": true
    },
    "kernelspec": {
      "name": "python3",
      "display_name": "Python 3"
    },
    "language_info": {
      "name": "python"
    }
  },
  "cells": [
    {
      "cell_type": "markdown",
      "metadata": {
        "id": "view-in-github",
        "colab_type": "text"
      },
      "source": [
        "<a href=\"https://colab.research.google.com/github/ricardo27637/estadistica/blob/main/Unidad2/probabilidad_U2_Programa2.ipynb\" target=\"_parent\"><img src=\"https://colab.research.google.com/assets/colab-badge.svg\" alt=\"Open In Colab\"/></a>"
      ]
    },
    {
      "cell_type": "code",
      "execution_count": 1,
      "metadata": {
        "id": "ZllythbTIMb-"
      },
      "outputs": [],
      "source": [
        "import math as mt\n",
        "from itertools import permutations\n",
        "from itertools import product\n",
        "import numpy as np\n",
        "\n"
      ]
    },
    {
      "cell_type": "code",
      "source": [
        "mt.factorial(7)"
      ],
      "metadata": {
        "colab": {
          "base_uri": "https://localhost:8080/"
        },
        "id": "t4N6lDyWJI75",
        "outputId": "57b2215e-79aa-4d6d-b0b6-18f262158fe4"
      },
      "execution_count": 2,
      "outputs": [
        {
          "output_type": "execute_result",
          "data": {
            "text/plain": [
              "5040"
            ]
          },
          "metadata": {},
          "execution_count": 2
        }
      ]
    },
    {
      "cell_type": "code",
      "source": [
        "mt.factorial(4)"
      ],
      "metadata": {
        "colab": {
          "base_uri": "https://localhost:8080/"
        },
        "id": "9H5aKlIaJNK_",
        "outputId": "bda94076-e337-4102-cbc8-4cb824f3acfe"
      },
      "execution_count": 3,
      "outputs": [
        {
          "output_type": "execute_result",
          "data": {
            "text/plain": [
              "24"
            ]
          },
          "metadata": {},
          "execution_count": 3
        }
      ]
    },
    {
      "cell_type": "code",
      "source": [
        "5040/24"
      ],
      "metadata": {
        "colab": {
          "base_uri": "https://localhost:8080/"
        },
        "id": "Hc0nh84BJQoZ",
        "outputId": "b96b7236-6617-4884-d6bc-36a01acf8da7"
      },
      "execution_count": 4,
      "outputs": [
        {
          "output_type": "execute_result",
          "data": {
            "text/plain": [
              "210.0"
            ]
          },
          "metadata": {},
          "execution_count": 4
        }
      ]
    },
    {
      "cell_type": "code",
      "source": [
        "nombres= [\"A\",\"B\",\"C\",\"D\",\"E\",\"F\",\"G\"]\n",
        "n= len(nombres)\n",
        "r= 3\n",
        "\n",
        "Pr = mt.factorial(n)/(mt.factorial(n-r))\n",
        "\n",
        "print(\"Existen\", Pr, \"Posibles permutaciones sin repeticion del total de \",\n",
        "      n, \"nombres\", \"en grupos de \", r,\"en\",r)\n",
        "\n",
        "print(\"Aqui las permutaciones\")\n",
        "permutaciones_nombres=list(permutations(nombres,r))\n",
        "\n",
        "\n",
        "for permutacion in permutaciones_nombres:\n",
        "    print(permutacion)"
      ],
      "metadata": {
        "colab": {
          "base_uri": "https://localhost:8080/"
        },
        "id": "DFE8fPhEJW04",
        "outputId": "cde21682-a2f1-4294-e96c-6b7f4cc8c088"
      },
      "execution_count": 5,
      "outputs": [
        {
          "output_type": "stream",
          "name": "stdout",
          "text": [
            "Existen 210.0 Posibles permutaciones sin repeticion del total de  7 nombres en grupos de  3 en 3\n",
            "Aqui las permutaciones\n",
            "('A', 'B', 'C')\n",
            "('A', 'B', 'D')\n",
            "('A', 'B', 'E')\n",
            "('A', 'B', 'F')\n",
            "('A', 'B', 'G')\n",
            "('A', 'C', 'B')\n",
            "('A', 'C', 'D')\n",
            "('A', 'C', 'E')\n",
            "('A', 'C', 'F')\n",
            "('A', 'C', 'G')\n",
            "('A', 'D', 'B')\n",
            "('A', 'D', 'C')\n",
            "('A', 'D', 'E')\n",
            "('A', 'D', 'F')\n",
            "('A', 'D', 'G')\n",
            "('A', 'E', 'B')\n",
            "('A', 'E', 'C')\n",
            "('A', 'E', 'D')\n",
            "('A', 'E', 'F')\n",
            "('A', 'E', 'G')\n",
            "('A', 'F', 'B')\n",
            "('A', 'F', 'C')\n",
            "('A', 'F', 'D')\n",
            "('A', 'F', 'E')\n",
            "('A', 'F', 'G')\n",
            "('A', 'G', 'B')\n",
            "('A', 'G', 'C')\n",
            "('A', 'G', 'D')\n",
            "('A', 'G', 'E')\n",
            "('A', 'G', 'F')\n",
            "('B', 'A', 'C')\n",
            "('B', 'A', 'D')\n",
            "('B', 'A', 'E')\n",
            "('B', 'A', 'F')\n",
            "('B', 'A', 'G')\n",
            "('B', 'C', 'A')\n",
            "('B', 'C', 'D')\n",
            "('B', 'C', 'E')\n",
            "('B', 'C', 'F')\n",
            "('B', 'C', 'G')\n",
            "('B', 'D', 'A')\n",
            "('B', 'D', 'C')\n",
            "('B', 'D', 'E')\n",
            "('B', 'D', 'F')\n",
            "('B', 'D', 'G')\n",
            "('B', 'E', 'A')\n",
            "('B', 'E', 'C')\n",
            "('B', 'E', 'D')\n",
            "('B', 'E', 'F')\n",
            "('B', 'E', 'G')\n",
            "('B', 'F', 'A')\n",
            "('B', 'F', 'C')\n",
            "('B', 'F', 'D')\n",
            "('B', 'F', 'E')\n",
            "('B', 'F', 'G')\n",
            "('B', 'G', 'A')\n",
            "('B', 'G', 'C')\n",
            "('B', 'G', 'D')\n",
            "('B', 'G', 'E')\n",
            "('B', 'G', 'F')\n",
            "('C', 'A', 'B')\n",
            "('C', 'A', 'D')\n",
            "('C', 'A', 'E')\n",
            "('C', 'A', 'F')\n",
            "('C', 'A', 'G')\n",
            "('C', 'B', 'A')\n",
            "('C', 'B', 'D')\n",
            "('C', 'B', 'E')\n",
            "('C', 'B', 'F')\n",
            "('C', 'B', 'G')\n",
            "('C', 'D', 'A')\n",
            "('C', 'D', 'B')\n",
            "('C', 'D', 'E')\n",
            "('C', 'D', 'F')\n",
            "('C', 'D', 'G')\n",
            "('C', 'E', 'A')\n",
            "('C', 'E', 'B')\n",
            "('C', 'E', 'D')\n",
            "('C', 'E', 'F')\n",
            "('C', 'E', 'G')\n",
            "('C', 'F', 'A')\n",
            "('C', 'F', 'B')\n",
            "('C', 'F', 'D')\n",
            "('C', 'F', 'E')\n",
            "('C', 'F', 'G')\n",
            "('C', 'G', 'A')\n",
            "('C', 'G', 'B')\n",
            "('C', 'G', 'D')\n",
            "('C', 'G', 'E')\n",
            "('C', 'G', 'F')\n",
            "('D', 'A', 'B')\n",
            "('D', 'A', 'C')\n",
            "('D', 'A', 'E')\n",
            "('D', 'A', 'F')\n",
            "('D', 'A', 'G')\n",
            "('D', 'B', 'A')\n",
            "('D', 'B', 'C')\n",
            "('D', 'B', 'E')\n",
            "('D', 'B', 'F')\n",
            "('D', 'B', 'G')\n",
            "('D', 'C', 'A')\n",
            "('D', 'C', 'B')\n",
            "('D', 'C', 'E')\n",
            "('D', 'C', 'F')\n",
            "('D', 'C', 'G')\n",
            "('D', 'E', 'A')\n",
            "('D', 'E', 'B')\n",
            "('D', 'E', 'C')\n",
            "('D', 'E', 'F')\n",
            "('D', 'E', 'G')\n",
            "('D', 'F', 'A')\n",
            "('D', 'F', 'B')\n",
            "('D', 'F', 'C')\n",
            "('D', 'F', 'E')\n",
            "('D', 'F', 'G')\n",
            "('D', 'G', 'A')\n",
            "('D', 'G', 'B')\n",
            "('D', 'G', 'C')\n",
            "('D', 'G', 'E')\n",
            "('D', 'G', 'F')\n",
            "('E', 'A', 'B')\n",
            "('E', 'A', 'C')\n",
            "('E', 'A', 'D')\n",
            "('E', 'A', 'F')\n",
            "('E', 'A', 'G')\n",
            "('E', 'B', 'A')\n",
            "('E', 'B', 'C')\n",
            "('E', 'B', 'D')\n",
            "('E', 'B', 'F')\n",
            "('E', 'B', 'G')\n",
            "('E', 'C', 'A')\n",
            "('E', 'C', 'B')\n",
            "('E', 'C', 'D')\n",
            "('E', 'C', 'F')\n",
            "('E', 'C', 'G')\n",
            "('E', 'D', 'A')\n",
            "('E', 'D', 'B')\n",
            "('E', 'D', 'C')\n",
            "('E', 'D', 'F')\n",
            "('E', 'D', 'G')\n",
            "('E', 'F', 'A')\n",
            "('E', 'F', 'B')\n",
            "('E', 'F', 'C')\n",
            "('E', 'F', 'D')\n",
            "('E', 'F', 'G')\n",
            "('E', 'G', 'A')\n",
            "('E', 'G', 'B')\n",
            "('E', 'G', 'C')\n",
            "('E', 'G', 'D')\n",
            "('E', 'G', 'F')\n",
            "('F', 'A', 'B')\n",
            "('F', 'A', 'C')\n",
            "('F', 'A', 'D')\n",
            "('F', 'A', 'E')\n",
            "('F', 'A', 'G')\n",
            "('F', 'B', 'A')\n",
            "('F', 'B', 'C')\n",
            "('F', 'B', 'D')\n",
            "('F', 'B', 'E')\n",
            "('F', 'B', 'G')\n",
            "('F', 'C', 'A')\n",
            "('F', 'C', 'B')\n",
            "('F', 'C', 'D')\n",
            "('F', 'C', 'E')\n",
            "('F', 'C', 'G')\n",
            "('F', 'D', 'A')\n",
            "('F', 'D', 'B')\n",
            "('F', 'D', 'C')\n",
            "('F', 'D', 'E')\n",
            "('F', 'D', 'G')\n",
            "('F', 'E', 'A')\n",
            "('F', 'E', 'B')\n",
            "('F', 'E', 'C')\n",
            "('F', 'E', 'D')\n",
            "('F', 'E', 'G')\n",
            "('F', 'G', 'A')\n",
            "('F', 'G', 'B')\n",
            "('F', 'G', 'C')\n",
            "('F', 'G', 'D')\n",
            "('F', 'G', 'E')\n",
            "('G', 'A', 'B')\n",
            "('G', 'A', 'C')\n",
            "('G', 'A', 'D')\n",
            "('G', 'A', 'E')\n",
            "('G', 'A', 'F')\n",
            "('G', 'B', 'A')\n",
            "('G', 'B', 'C')\n",
            "('G', 'B', 'D')\n",
            "('G', 'B', 'E')\n",
            "('G', 'B', 'F')\n",
            "('G', 'C', 'A')\n",
            "('G', 'C', 'B')\n",
            "('G', 'C', 'D')\n",
            "('G', 'C', 'E')\n",
            "('G', 'C', 'F')\n",
            "('G', 'D', 'A')\n",
            "('G', 'D', 'B')\n",
            "('G', 'D', 'C')\n",
            "('G', 'D', 'E')\n",
            "('G', 'D', 'F')\n",
            "('G', 'E', 'A')\n",
            "('G', 'E', 'B')\n",
            "('G', 'E', 'C')\n",
            "('G', 'E', 'D')\n",
            "('G', 'E', 'F')\n",
            "('G', 'F', 'A')\n",
            "('G', 'F', 'B')\n",
            "('G', 'F', 'C')\n",
            "('G', 'F', 'D')\n",
            "('G', 'F', 'E')\n"
          ]
        }
      ]
    }
  ]
}