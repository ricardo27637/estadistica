{
  "nbformat": 4,
  "nbformat_minor": 0,
  "metadata": {
    "colab": {
      "provenance": [],
      "authorship_tag": "ABX9TyPwSkSDkWJO9Pn8Zaqxj32H",
      "include_colab_link": true
    },
    "kernelspec": {
      "name": "python3",
      "display_name": "Python 3"
    },
    "language_info": {
      "name": "python"
    }
  },
  "cells": [
    {
      "cell_type": "markdown",
      "metadata": {
        "id": "view-in-github",
        "colab_type": "text"
      },
      "source": [
        "<a href=\"https://colab.research.google.com/github/ricardo27637/estadistica/blob/main/Unidad2/probabilidad_u2_Programa1.ipynb\" target=\"_parent\"><img src=\"https://colab.research.google.com/assets/colab-badge.svg\" alt=\"Open In Colab\"/></a>"
      ]
    },
    {
      "cell_type": "code",
      "execution_count": 1,
      "metadata": {
        "colab": {
          "base_uri": "https://localhost:8080/"
        },
        "id": "xX6f-OarDCyp",
        "outputId": "e4d997da-7fae-4f76-e71f-97eaa315db15"
      },
      "outputs": [
        {
          "output_type": "stream",
          "name": "stdout",
          "text": [
            "Existen 45.0 Posibles combinaciones sin repeticiones del total de  10 nombres en grupos de  2 en 2\n",
            "Aqui las combinaciones\n",
            "('Oscar', 'Paco')\n",
            "('Oscar', 'Paty')\n",
            "('Oscar', 'Laura')\n",
            "('Oscar', 'Ruben')\n",
            "('Oscar', 'Luis')\n",
            "('Oscar', 'Lucy')\n",
            "('Oscar', 'Alberto')\n",
            "('Oscar', 'Juan')\n",
            "('Oscar', 'Dany')\n",
            "('Paco', 'Paty')\n",
            "('Paco', 'Laura')\n",
            "('Paco', 'Ruben')\n",
            "('Paco', 'Luis')\n",
            "('Paco', 'Lucy')\n",
            "('Paco', 'Alberto')\n",
            "('Paco', 'Juan')\n",
            "('Paco', 'Dany')\n",
            "('Paty', 'Laura')\n",
            "('Paty', 'Ruben')\n",
            "('Paty', 'Luis')\n",
            "('Paty', 'Lucy')\n",
            "('Paty', 'Alberto')\n",
            "('Paty', 'Juan')\n",
            "('Paty', 'Dany')\n",
            "('Laura', 'Ruben')\n",
            "('Laura', 'Luis')\n",
            "('Laura', 'Lucy')\n",
            "('Laura', 'Alberto')\n",
            "('Laura', 'Juan')\n",
            "('Laura', 'Dany')\n",
            "('Ruben', 'Luis')\n",
            "('Ruben', 'Lucy')\n",
            "('Ruben', 'Alberto')\n",
            "('Ruben', 'Juan')\n",
            "('Ruben', 'Dany')\n",
            "('Luis', 'Lucy')\n",
            "('Luis', 'Alberto')\n",
            "('Luis', 'Juan')\n",
            "('Luis', 'Dany')\n",
            "('Lucy', 'Alberto')\n",
            "('Lucy', 'Juan')\n",
            "('Lucy', 'Dany')\n",
            "('Alberto', 'Juan')\n",
            "('Alberto', 'Dany')\n",
            "('Juan', 'Dany')\n"
          ]
        }
      ],
      "source": [
        "import math as mt\n",
        "from itertools import combinations\n",
        "from itertools import combinations_with_replacement\n",
        "import numpy as np\n",
        "\n",
        "nombres = [\"Oscar\", \"Paco\",\"Paty\", \"Laura\", \"Ruben\", \"Luis\", \"Lucy\", \"Alberto\", \"Juan\", \"Dany\"]\n",
        "n = len(nombres)\n",
        "r= 2\n",
        "\n",
        "Cn= mt.factorial(n)/(mt.factorial(r)*mt.factorial(n-r))\n",
        "\n",
        "print(\"Existen\", Cn, \"Posibles combinaciones sin repeticiones del total de \",\n",
        "      n, \"nombres\", \"en grupos de \", r, \"en\", r)\n",
        "\n",
        "print(\"Aqui las combinaciones\")\n",
        "combinaciones_nombres = list(combinations(nombres, r))\n",
        "\n",
        "for combinacion in combinaciones_nombres:\n",
        "    print(combinacion)"
      ]
    },
    {
      "cell_type": "code",
      "source": [
        "caracteres= [\"A\",\"B\",\"C\",\"D\",\"E\",\"F\",\"0\",\"1\",\"2\",\"3\",\"4\",\"5\"]\n",
        "n=len(caracteres)\n",
        "r= 10\n",
        "\n",
        "Cn= mt.factorial(n)/(mt.factorial(r)*mt.factorial(n-r))\n",
        "\n",
        "print(\"Existen\", Cn, \"Posibles combinaciones sin repeticiones del total de \",\n",
        "      n, \"caracteres\", \"en grupos de \", r, \"en\", r)\n",
        "\n",
        "print(\"Aqui las combinaciones\")\n",
        "combinaciones_caracteres = list(combinations(caracteres, r))\n",
        "\n",
        "for combinacion in combinaciones_caracteres:\n",
        "    print(combinacion)"
      ],
      "metadata": {
        "colab": {
          "base_uri": "https://localhost:8080/"
        },
        "id": "fWORBp68FGws",
        "outputId": "5b6dfbaf-b396-435f-d177-de219f865854"
      },
      "execution_count": 2,
      "outputs": [
        {
          "output_type": "stream",
          "name": "stdout",
          "text": [
            "Existen 66.0 Posibles combinaciones sin repeticiones del total de  12 caracteres en grupos de  10 en 10\n",
            "Aqui las combinaciones\n",
            "('A', 'B', 'C', 'D', 'E', 'F', '0', '1', '2', '3')\n",
            "('A', 'B', 'C', 'D', 'E', 'F', '0', '1', '2', '4')\n",
            "('A', 'B', 'C', 'D', 'E', 'F', '0', '1', '2', '5')\n",
            "('A', 'B', 'C', 'D', 'E', 'F', '0', '1', '3', '4')\n",
            "('A', 'B', 'C', 'D', 'E', 'F', '0', '1', '3', '5')\n",
            "('A', 'B', 'C', 'D', 'E', 'F', '0', '1', '4', '5')\n",
            "('A', 'B', 'C', 'D', 'E', 'F', '0', '2', '3', '4')\n",
            "('A', 'B', 'C', 'D', 'E', 'F', '0', '2', '3', '5')\n",
            "('A', 'B', 'C', 'D', 'E', 'F', '0', '2', '4', '5')\n",
            "('A', 'B', 'C', 'D', 'E', 'F', '0', '3', '4', '5')\n",
            "('A', 'B', 'C', 'D', 'E', 'F', '1', '2', '3', '4')\n",
            "('A', 'B', 'C', 'D', 'E', 'F', '1', '2', '3', '5')\n",
            "('A', 'B', 'C', 'D', 'E', 'F', '1', '2', '4', '5')\n",
            "('A', 'B', 'C', 'D', 'E', 'F', '1', '3', '4', '5')\n",
            "('A', 'B', 'C', 'D', 'E', 'F', '2', '3', '4', '5')\n",
            "('A', 'B', 'C', 'D', 'E', '0', '1', '2', '3', '4')\n",
            "('A', 'B', 'C', 'D', 'E', '0', '1', '2', '3', '5')\n",
            "('A', 'B', 'C', 'D', 'E', '0', '1', '2', '4', '5')\n",
            "('A', 'B', 'C', 'D', 'E', '0', '1', '3', '4', '5')\n",
            "('A', 'B', 'C', 'D', 'E', '0', '2', '3', '4', '5')\n",
            "('A', 'B', 'C', 'D', 'E', '1', '2', '3', '4', '5')\n",
            "('A', 'B', 'C', 'D', 'F', '0', '1', '2', '3', '4')\n",
            "('A', 'B', 'C', 'D', 'F', '0', '1', '2', '3', '5')\n",
            "('A', 'B', 'C', 'D', 'F', '0', '1', '2', '4', '5')\n",
            "('A', 'B', 'C', 'D', 'F', '0', '1', '3', '4', '5')\n",
            "('A', 'B', 'C', 'D', 'F', '0', '2', '3', '4', '5')\n",
            "('A', 'B', 'C', 'D', 'F', '1', '2', '3', '4', '5')\n",
            "('A', 'B', 'C', 'D', '0', '1', '2', '3', '4', '5')\n",
            "('A', 'B', 'C', 'E', 'F', '0', '1', '2', '3', '4')\n",
            "('A', 'B', 'C', 'E', 'F', '0', '1', '2', '3', '5')\n",
            "('A', 'B', 'C', 'E', 'F', '0', '1', '2', '4', '5')\n",
            "('A', 'B', 'C', 'E', 'F', '0', '1', '3', '4', '5')\n",
            "('A', 'B', 'C', 'E', 'F', '0', '2', '3', '4', '5')\n",
            "('A', 'B', 'C', 'E', 'F', '1', '2', '3', '4', '5')\n",
            "('A', 'B', 'C', 'E', '0', '1', '2', '3', '4', '5')\n",
            "('A', 'B', 'C', 'F', '0', '1', '2', '3', '4', '5')\n",
            "('A', 'B', 'D', 'E', 'F', '0', '1', '2', '3', '4')\n",
            "('A', 'B', 'D', 'E', 'F', '0', '1', '2', '3', '5')\n",
            "('A', 'B', 'D', 'E', 'F', '0', '1', '2', '4', '5')\n",
            "('A', 'B', 'D', 'E', 'F', '0', '1', '3', '4', '5')\n",
            "('A', 'B', 'D', 'E', 'F', '0', '2', '3', '4', '5')\n",
            "('A', 'B', 'D', 'E', 'F', '1', '2', '3', '4', '5')\n",
            "('A', 'B', 'D', 'E', '0', '1', '2', '3', '4', '5')\n",
            "('A', 'B', 'D', 'F', '0', '1', '2', '3', '4', '5')\n",
            "('A', 'B', 'E', 'F', '0', '1', '2', '3', '4', '5')\n",
            "('A', 'C', 'D', 'E', 'F', '0', '1', '2', '3', '4')\n",
            "('A', 'C', 'D', 'E', 'F', '0', '1', '2', '3', '5')\n",
            "('A', 'C', 'D', 'E', 'F', '0', '1', '2', '4', '5')\n",
            "('A', 'C', 'D', 'E', 'F', '0', '1', '3', '4', '5')\n",
            "('A', 'C', 'D', 'E', 'F', '0', '2', '3', '4', '5')\n",
            "('A', 'C', 'D', 'E', 'F', '1', '2', '3', '4', '5')\n",
            "('A', 'C', 'D', 'E', '0', '1', '2', '3', '4', '5')\n",
            "('A', 'C', 'D', 'F', '0', '1', '2', '3', '4', '5')\n",
            "('A', 'C', 'E', 'F', '0', '1', '2', '3', '4', '5')\n",
            "('A', 'D', 'E', 'F', '0', '1', '2', '3', '4', '5')\n",
            "('B', 'C', 'D', 'E', 'F', '0', '1', '2', '3', '4')\n",
            "('B', 'C', 'D', 'E', 'F', '0', '1', '2', '3', '5')\n",
            "('B', 'C', 'D', 'E', 'F', '0', '1', '2', '4', '5')\n",
            "('B', 'C', 'D', 'E', 'F', '0', '1', '3', '4', '5')\n",
            "('B', 'C', 'D', 'E', 'F', '0', '2', '3', '4', '5')\n",
            "('B', 'C', 'D', 'E', 'F', '1', '2', '3', '4', '5')\n",
            "('B', 'C', 'D', 'E', '0', '1', '2', '3', '4', '5')\n",
            "('B', 'C', 'D', 'F', '0', '1', '2', '3', '4', '5')\n",
            "('B', 'C', 'E', 'F', '0', '1', '2', '3', '4', '5')\n",
            "('B', 'D', 'E', 'F', '0', '1', '2', '3', '4', '5')\n",
            "('C', 'D', 'E', 'F', '0', '1', '2', '3', '4', '5')\n"
          ]
        }
      ]
    },
    {
      "cell_type": "code",
      "source": [
        "dado= [1,2,3,4,5,6]\n",
        "n=len(dado)\n",
        "r=2\n",
        "\n",
        "CnR= mt.factorial(n+r-1)/(mt.factorial(r)*mt.factorial((n+r-1)-r))\n",
        "\n",
        "print(\"Existen\", CnR, \"Posibles combinaciones con repeticiones del total de \",\n",
        "      n, \"dados\", \"en grupos de \", r, \"en\", r)\n",
        "\n",
        "print(\"Aqui las combinaciones con repeticion de dos dados\")\n",
        "elementos= [1,2,3,4,5,6]\n",
        "\n",
        "r=2\n",
        "\n",
        "combinaciones_dado = list(combinations_with_replacement(dado, r))\n",
        "\n",
        "for combinacion in combinaciones_dado:\n",
        "    print(combinacion)"
      ],
      "metadata": {
        "colab": {
          "base_uri": "https://localhost:8080/"
        },
        "id": "56Z_Y7FGF4Jl",
        "outputId": "3d24129f-185a-4c56-ea37-ec65774ec8ed"
      },
      "execution_count": 3,
      "outputs": [
        {
          "output_type": "stream",
          "name": "stdout",
          "text": [
            "Existen 21.0 Posibles combinaciones con repeticiones del total de  6 dados en grupos de  2 en 2\n",
            "Aqui las combinaciones con repeticion de dos dados\n",
            "(1, 1)\n",
            "(1, 2)\n",
            "(1, 3)\n",
            "(1, 4)\n",
            "(1, 5)\n",
            "(1, 6)\n",
            "(2, 2)\n",
            "(2, 3)\n",
            "(2, 4)\n",
            "(2, 5)\n",
            "(2, 6)\n",
            "(3, 3)\n",
            "(3, 4)\n",
            "(3, 5)\n",
            "(3, 6)\n",
            "(4, 4)\n",
            "(4, 5)\n",
            "(4, 6)\n",
            "(5, 5)\n",
            "(5, 6)\n",
            "(6, 6)\n"
          ]
        }
      ]
    }
  ]
}