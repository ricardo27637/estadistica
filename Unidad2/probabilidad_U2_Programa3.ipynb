{
  "nbformat": 4,
  "nbformat_minor": 0,
  "metadata": {
    "colab": {
      "provenance": [],
      "authorship_tag": "ABX9TyO3pONKS76HWD6dVOLo574E",
      "include_colab_link": true
    },
    "kernelspec": {
      "name": "python3",
      "display_name": "Python 3"
    },
    "language_info": {
      "name": "python"
    }
  },
  "cells": [
    {
      "cell_type": "markdown",
      "metadata": {
        "id": "view-in-github",
        "colab_type": "text"
      },
      "source": [
        "<a href=\"https://colab.research.google.com/github/ricardo27637/estadistica/blob/main/Unidad2/probabilidad_U2_Programa3.ipynb\" target=\"_parent\"><img src=\"https://colab.research.google.com/assets/colab-badge.svg\" alt=\"Open In Colab\"/></a>"
      ]
    },
    {
      "cell_type": "markdown",
      "source": [
        "# Unidad 2\n",
        "\n",
        "ultimo de los 3 programas\n",
        "\n",
        "#Alumno: Ricardo Emanuel Quiñones Castillo\n",
        "\n",
        "#Docente: Dr. José Gabriel Rodriguez Rivas"
      ],
      "metadata": {
        "id": "yoxCB0DDN1CP"
      }
    },
    {
      "cell_type": "code",
      "execution_count": 1,
      "metadata": {
        "colab": {
          "base_uri": "https://localhost:8080/"
        },
        "id": "MZOd5UqYMUcX",
        "outputId": "c726cba7-85de-442f-9a52-d5889912d99f"
      },
      "outputs": [
        {
          "output_type": "stream",
          "name": "stdout",
          "text": [
            "El número de maneras de elegir los asistentes es: 5040\n"
          ]
        }
      ],
      "source": [
        "import math\n",
        "\n",
        "# Datos\n",
        "n = 10  # Número de asistentes\n",
        "r = 4   # Número de preguntas para calificar\n",
        "\n",
        "# Calcular el número de permutaciones\n",
        "numerador = math.factorial(n)\n",
        "denominador = math.factorial(n - r)\n",
        "permutaciones = numerador / denominador\n",
        "\n",
        "# Mostrar el resultado\n",
        "print(f\"El número de maneras de elegir los asistentes es: {int(permutaciones)}\")"
      ]
    }
  ]
}