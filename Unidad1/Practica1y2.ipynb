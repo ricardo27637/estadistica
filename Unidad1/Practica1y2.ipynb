{
  "nbformat": 4,
  "nbformat_minor": 0,
  "metadata": {
    "colab": {
      "provenance": [],
      "authorship_tag": "ABX9TyMJsaOxefdShxf5S/FMWAWC",
      "include_colab_link": true
    },
    "kernelspec": {
      "name": "python3",
      "display_name": "Python 3"
    },
    "language_info": {
      "name": "python"
    }
  },
  "cells": [
    {
      "cell_type": "markdown",
      "metadata": {
        "id": "view-in-github",
        "colab_type": "text"
      },
      "source": [
        "<a href=\"https://colab.research.google.com/github/ricardo27637/estadistica/blob/main/Unidad1/Practica1y2.ipynb\" target=\"_parent\"><img src=\"https://colab.research.google.com/assets/colab-badge.svg\" alt=\"Open In Colab\"/></a>"
      ]
    },
    {
      "cell_type": "code",
      "execution_count": 2,
      "metadata": {
        "id": "HfWMs1cfJzAk",
        "colab": {
          "base_uri": "https://localhost:8080/"
        },
        "outputId": "dba7b0ae-8f96-4751-9b81-de0f39506188"
      },
      "outputs": [
        {
          "output_type": "stream",
          "name": "stdout",
          "text": [
            "[70, 70, 65, 90, 100, 95, 45, 80, 73, 20, 100, 96]\n",
            "75.33333333333333\n",
            "75.33333333333333\n",
            "76.5\n",
            "70\n"
          ]
        }
      ],
      "source": [
        "from statistics import *\n",
        "\n",
        "#lista de calificaciones del grupo a de prob y estadi\n",
        "grupoa=[70,70,65,90,100,95,45,80,73,20,100,96]\n",
        "print(grupoa)\n",
        "\n",
        "#la funcion type nos devuelve el tipp de dato de la variable\n",
        "type(grupoa)\n",
        "\n",
        "#sacar la media de las calificaciones con una formula\n",
        "#len es el numero de elemntos de la lista\n",
        "promedio=sum(grupoa)/len(grupoa)\n",
        "print(promedio)\n",
        "\n",
        "#utilizar la funcion mean que esta en la libreria estatistics para sacar el\n",
        "#promedio\n",
        "\n",
        "promedio2=mean(grupoa)\n",
        "print(promedio2)\n",
        "\n",
        "#determinar el valor de la mediana con la funcion median\n",
        "mediana=median(grupoa)\n",
        "print(mediana)\n",
        "\n",
        "#determinar el valor de la moda con la funcion mode\n",
        "moda=mode(grupoa)\n",
        "print(moda)\n",
        "\n",
        "\n"
      ]
    },
    {
      "cell_type": "code",
      "source": [
        "#en caso de que exista mas de una moda , se puede emplear la funcion multimode\n",
        "moda2=multimode(grupoa)\n",
        "print(moda2)"
      ],
      "metadata": {
        "colab": {
          "base_uri": "https://localhost:8080/"
        },
        "id": "5sZYobM3YAvE",
        "outputId": "0c3db959-64a4-4c90-9fa5-61087bc6ea0d"
      },
      "execution_count": 3,
      "outputs": [
        {
          "output_type": "stream",
          "name": "stdout",
          "text": [
            "[70, 100]\n"
          ]
        }
      ]
    },
    {
      "cell_type": "markdown",
      "source": [
        "# Tiempos de 100 metros de un grupo de 12 alumnos"
      ],
      "metadata": {
        "id": "_6K7TPgoYSuw"
      }
    },
    {
      "cell_type": "code",
      "source": [
        "#definimos una variable llamada tiempos100mts de tipo lista, que contiene\n",
        "#los tiempos que tardaron los 10 alumnos para correr los 100 metros\n",
        "tiempos100mts=[15.10,17.20,14.69,13.27,22.15,18.71,19.15,20.65,15.10,17.20]\n",
        "\n",
        "#desplegamos los valores de la lista\n",
        "print(tiempos100mts)"
      ],
      "metadata": {
        "colab": {
          "base_uri": "https://localhost:8080/"
        },
        "id": "dJ4-APMbYkCG",
        "outputId": "81edf48a-454e-421f-cf90-0a4999614448"
      },
      "execution_count": 4,
      "outputs": [
        {
          "output_type": "stream",
          "name": "stdout",
          "text": [
            "[15.1, 17.2, 14.69, 13.27, 22.15, 18.71, 19.15, 20.65, 15.1, 17.2]\n"
          ]
        }
      ]
    },
    {
      "cell_type": "markdown",
      "source": [
        "# Funcion mean para calcular el promedio"
      ],
      "metadata": {
        "id": "oFh4JAviZXc3"
      }
    },
    {
      "cell_type": "code",
      "source": [
        "#usamos la funcion mean para determinar el tiempo de la lista de valores\n",
        "\n",
        "print(\"El tiempo promedio de los corredores es: \",mean(tiempos100mts))"
      ],
      "metadata": {
        "colab": {
          "base_uri": "https://localhost:8080/"
        },
        "id": "yEEnIy_OZcUC",
        "outputId": "0eabc49f-f3a9-4bc3-8249-1f485f775a59"
      },
      "execution_count": 5,
      "outputs": [
        {
          "output_type": "stream",
          "name": "stdout",
          "text": [
            "El tiempo promedio de los corredores es:  17.322\n"
          ]
        }
      ]
    },
    {
      "cell_type": "markdown",
      "source": [
        "# funcion para calcular la mediana"
      ],
      "metadata": {
        "id": "6nBUHdfUaDVb"
      }
    },
    {
      "cell_type": "code",
      "source": [
        "#usamos la funcion median para determinar el tiempo promedio de la lista de\n",
        "#valores\n",
        "\n",
        "#definimos una variable llamada mediana para calcular la mediana de la lista con\n",
        "#la funcion median\n",
        "\n",
        "mediana=median(tiempos100mts)\n",
        "print(\"El tiempo promedio de los corredores es: \",mediana)"
      ],
      "metadata": {
        "colab": {
          "base_uri": "https://localhost:8080/"
        },
        "id": "0EMMNOFXaHb3",
        "outputId": "21545915-093a-411a-d499-104afa781e0e"
      },
      "execution_count": 6,
      "outputs": [
        {
          "output_type": "stream",
          "name": "stdout",
          "text": [
            "El tiempo promedio de los corredores es:  17.2\n"
          ]
        }
      ]
    },
    {
      "cell_type": "markdown",
      "source": [
        "#funcion para calcular la moda"
      ],
      "metadata": {
        "id": "tGsV4an5apik"
      }
    },
    {
      "cell_type": "code",
      "source": [
        "moda=mode(tiempos100mts)\n",
        "print(\"La moda de los tiempos es: \",moda)"
      ],
      "metadata": {
        "colab": {
          "base_uri": "https://localhost:8080/"
        },
        "id": "7lp_Sk8xatQ4",
        "outputId": "4c3399f3-b2aa-4729-9e5a-7fcc2f651b21"
      },
      "execution_count": 7,
      "outputs": [
        {
          "output_type": "stream",
          "name": "stdout",
          "text": [
            "La moda de los tiempos es:  15.1\n"
          ]
        }
      ]
    },
    {
      "cell_type": "markdown",
      "source": [
        "#funcion multimode para calcular multiples modas por ejemplo,en caso de que sea bimodal"
      ],
      "metadata": {
        "id": "-J61T1svbDUJ"
      }
    },
    {
      "cell_type": "code",
      "source": [
        "multimoda=multimode(tiempos100mts)\n",
        "print(\"La multimoda de los tiempos es: \",multimode)"
      ],
      "metadata": {
        "id": "xAcQ53BwbdM5",
        "colab": {
          "base_uri": "https://localhost:8080/"
        },
        "outputId": "b5373485-a26f-4f10-deac-5d4a98558997"
      },
      "execution_count": 8,
      "outputs": [
        {
          "output_type": "stream",
          "name": "stdout",
          "text": [
            "La multimoda de los tiempos es:  <function multimode at 0x7cd4af9a2d40>\n"
          ]
        }
      ]
    },
    {
      "cell_type": "markdown",
      "source": [
        "#Histogramas de 2 grupos"
      ],
      "metadata": {
        "id": "7gawLzH4brPm"
      }
    },
    {
      "cell_type": "code",
      "source": [
        "#libreria para generar numeros aleatorios\n",
        "import random\n",
        "\n",
        "fabrica1 = []\n",
        "for i in range(100):\n",
        "  numero_aleatorio = round(random.uniform(50,100),2)\n",
        "  fabrica1.append(numero_aleatorio)\n",
        "\n",
        "print(fabrica1)"
      ],
      "metadata": {
        "colab": {
          "base_uri": "https://localhost:8080/"
        },
        "id": "wZR8oAUXbyH8",
        "outputId": "fbcb4ab6-a33c-45f9-beec-18ad0ac05b60"
      },
      "execution_count": 9,
      "outputs": [
        {
          "output_type": "stream",
          "name": "stdout",
          "text": [
            "[54.34, 73.12, 87.33, 77.27, 67.79, 78.72, 62.13, 69.4, 79.42, 90.75, 97.35, 70.89, 85.62, 73.0, 51.32, 63.81, 74.76, 93.27, 63.93, 60.57, 81.62, 62.22, 84.92, 53.21, 74.87, 91.96, 84.53, 66.64, 71.31, 97.88, 96.2, 98.28, 67.75, 67.67, 81.67, 80.44, 68.78, 79.65, 77.22, 99.49, 66.62, 67.59, 94.28, 67.1, 57.07, 56.36, 80.46, 84.27, 57.69, 62.15, 82.51, 95.91, 87.01, 97.79, 98.44, 87.17, 53.38, 51.8, 55.85, 88.13, 90.71, 90.26, 90.51, 55.05, 94.86, 96.44, 56.37, 89.31, 78.01, 96.02, 50.55, 85.16, 74.17, 93.48, 83.64, 88.37, 90.28, 51.26, 62.5, 58.71, 61.46, 65.35, 81.0, 97.02, 81.35, 69.26, 73.2, 52.7, 96.06, 58.98, 97.8, 89.61, 79.39, 87.78, 79.44, 79.32, 98.4, 68.72, 79.85, 64.14]\n"
          ]
        }
      ]
    },
    {
      "cell_type": "code",
      "source": [
        "fabrica2 = []\n",
        "for i in range(100):\n",
        "  numero_aleatorio = round(random.uniform(50,100),2)\n",
        "  fabrica2.append(numero_aleatorio)\n",
        "\n",
        "print(fabrica2)"
      ],
      "metadata": {
        "colab": {
          "base_uri": "https://localhost:8080/"
        },
        "id": "e3fxrH3NdHBd",
        "outputId": "d8c793aa-e06a-415a-f336-843b601e1556"
      },
      "execution_count": 10,
      "outputs": [
        {
          "output_type": "stream",
          "name": "stdout",
          "text": [
            "[74.63, 95.69, 78.8, 84.74, 51.19, 88.56, 70.89, 85.29, 71.67, 74.89, 95.76, 89.95, 95.74, 82.53, 61.56, 84.64, 75.64, 76.21, 91.1, 72.6, 68.09, 53.17, 66.7, 78.72, 88.28, 77.12, 87.69, 55.24, 52.54, 53.46, 74.69, 80.38, 91.39, 59.03, 54.1, 97.21, 97.65, 53.93, 60.0, 75.95, 99.77, 53.33, 78.79, 57.06, 99.97, 92.07, 75.43, 88.37, 79.6, 92.13, 65.99, 92.02, 58.04, 67.87, 56.07, 97.51, 72.49, 84.73, 61.59, 59.7, 73.76, 77.5, 58.43, 65.33, 90.27, 95.23, 99.47, 94.95, 52.01, 50.64, 77.43, 55.11, 78.06, 75.47, 99.7, 86.91, 98.96, 52.65, 85.16, 54.22, 68.89, 94.02, 60.99, 53.73, 83.75, 97.93, 96.08, 83.93, 94.1, 77.05, 64.19, 69.42, 82.5, 73.06, 51.63, 53.45, 57.0, 64.06, 51.57, 95.03]\n"
          ]
        }
      ]
    },
    {
      "cell_type": "code",
      "source": [
        "#libreria de phyton para graficar valores\n",
        "import matplotlib.pyplot as plt\n",
        "\n",
        "plt.hist(fabrica1)\n",
        "plt.title(\"Produccion diaria de la fabrica 1\")"
      ],
      "metadata": {
        "colab": {
          "base_uri": "https://localhost:8080/",
          "height": 469
        },
        "id": "Tte4Az8hdm6E",
        "outputId": "9fdd5dc3-4092-4155-cc4a-a17ba56174f8"
      },
      "execution_count": 11,
      "outputs": [
        {
          "output_type": "execute_result",
          "data": {
            "text/plain": [
              "Text(0.5, 1.0, 'Produccion diaria de la fabrica 1')"
            ]
          },
          "metadata": {},
          "execution_count": 11
        },
        {
          "output_type": "display_data",
          "data": {
            "text/plain": [
              "<Figure size 640x480 with 1 Axes>"
            ],
            "image/png": "[encoded data removed]"
          },
          "metadata": {}
        }
      ]
    },
    {
      "cell_type": "code",
      "source": [
        "plt.hist(fabrica2)\n",
        "plt.title(\"Produccion diaria de la fabrica 2\")"
      ],
      "metadata": {
        "id": "5wmRB_voeRdT",
        "colab": {
          "base_uri": "https://localhost:8080/",
          "height": 469
        },
        "outputId": "df365961-1f1d-47d3-ee8e-0f2486b0c936"
      },
      "execution_count": 12,
      "outputs": [
        {
          "output_type": "execute_result",
          "data": {
            "text/plain": [
              "Text(0.5, 1.0, 'Produccion diaria de la fabrica 2')"
            ]
          },
          "metadata": {},
          "execution_count": 12
        },
        {
          "output_type": "display_data",
          "data": {
            "text/plain": [
              "<Figure size 640x480 with 1 Axes>"
            ],
            "image/png": "[encoded data removed]"
          },
          "metadata": {}
        }
      ]
    },
    {
      "cell_type": "code",
      "source": [
        "media1=mean(fabrica1)\n",
        "mediana1=median(fabrica1)\n",
        "moda1=mode(fabrica1)\n",
        "\n",
        "print(\"valores de la fabruca 1\")\n",
        "print(\"La media de la fabrica 1 es: \",media1)\n",
        "print(\"La mediana de la fabrica 1 es: \",mediana1)\n",
        "print(\"La moda de la fabrica 1 es: \",moda1)"
      ],
      "metadata": {
        "colab": {
          "base_uri": "https://localhost:8080/"
        },
        "id": "AfA8XW_2cwiN",
        "outputId": "6e573b81-3d44-4360-c8bb-bf08d5c9347e"
      },
      "execution_count": 13,
      "outputs": [
        {
          "output_type": "stream",
          "name": "stdout",
          "text": [
            "valores de la fabruca 1\n",
            "La media de la fabrica 1 es:  76.8917\n",
            "La mediana de la fabrica 1 es:  79.35499999999999\n",
            "La moda de la fabrica 1 es:  54.34\n"
          ]
        }
      ]
    },
    {
      "cell_type": "code",
      "source": [
        "media2=mean(fabrica2)\n",
        "mediana2=median(fabrica2)\n",
        "moda2=mode(fabrica2)\n",
        "\n",
        "print(\"valores de la fabruca 2\")\n",
        "print(\"La media de la fabrica 2 es: \",media2)\n",
        "print(\"La mediana de la fabrica 2 es: \",mediana2)\n",
        "print(\"La moda de la fabrica 2 es: \",moda2)"
      ],
      "metadata": {
        "colab": {
          "base_uri": "https://localhost:8080/"
        },
        "id": "rgBjaFwJeabS",
        "outputId": "577b435d-c3bc-4f73-8970-41ae418b0766"
      },
      "execution_count": 14,
      "outputs": [
        {
          "output_type": "stream",
          "name": "stdout",
          "text": [
            "valores de la fabruca 2\n",
            "La media de la fabrica 2 es:  75.5359\n",
            "La mediana de la fabrica 2 es:  76.08\n",
            "La moda de la fabrica 2 es:  74.63\n"
          ]
        }
      ]
    },
    {
      "cell_type": "code",
      "source": [
        "#generar 2 subplot de 1 renglon por 2 columnas para desplegar los 2 histogramas\n",
        "#una a lado de la otra\n",
        "\n",
        "fig,(ax1,ax2)=plt.subplots(nrows=1,ncols=2, figsize=(10,5))\n",
        "ax1.hist(fabrica1)\n",
        "ax2.hist(fabrica2)\n",
        "plt.show()\n"
      ],
      "metadata": {
        "colab": {
          "base_uri": "https://localhost:8080/",
          "height": 445
        },
        "id": "RanwZozvfVJn",
        "outputId": "324421a4-756d-4784-bfa9-6d2ba3470989"
      },
      "execution_count": 16,
      "outputs": [
        {
          "output_type": "display_data",
          "data": {
            "text/plain": [
              "<Figure size 1000x500 with 2 Axes>"
            ],
            "image/png": "[encoded data removed]"
          },
          "metadata": {}
        }
      ]
    },
    {
      "cell_type": "code",
      "source": [
        "plt.hist(fabrica1, bins=10, alpha=0.2, color='b', edgecolor=\"black\")\n",
        "plt.axvline(media1, color='b', linestyle='dashed', linewidth=2, label='media')\n",
        "plt.axvline(mediana1, color='r', linestyle='dashed', linewidth=2, label='mediana')\n",
        "plt.axvline(moda1, color='y', linestyle='dashed', linewidth=2, label='moda')\n",
        "plt.xlabel('valor')\n",
        "plt.ylabel('frecuencia')\n",
        "plt.title('Produccion de la fabrica 1')\n",
        "plt.legend()\n",
        "plt.show()"
      ],
      "metadata": {
        "colab": {
          "base_uri": "https://localhost:8080/",
          "height": 472
        },
        "id": "x5aGTopxgF05",
        "outputId": "f72ecc6f-1b10-45c9-fb6d-0a3b41abbb6d"
      },
      "execution_count": 17,
      "outputs": [
        {
          "output_type": "display_data",
          "data": {
            "text/plain": [
              "<Figure size 640x480 with 1 Axes>"
            ],
            "image/png": "[encoded data removed]"
          },
          "metadata": {}
        }
      ]
    },
    {
      "cell_type": "code",
      "source": [
        "plt.hist(fabrica2, bins=10, alpha=0.2, color='b', edgecolor=\"black\")\n",
        "plt.axvline(media2, color='b', linestyle='dashed', linewidth=2, label='media')\n",
        "plt.axvline(mediana2, color='r', linestyle='dashed', linewidth=2, label='mediana')\n",
        "plt.axvline(moda2, color='y', linestyle='dashed', linewidth=2, label='moda')\n",
        "plt.xlabel('valor')\n",
        "plt.ylabel('frecuencia')\n",
        "plt.title('Produccion de la fabrica 2')\n",
        "plt.legend()\n",
        "plt.show()"
      ],
      "metadata": {
        "colab": {
          "base_uri": "https://localhost:8080/",
          "height": 472
        },
        "id": "ZG32oJBhih5b",
        "outputId": "ae9a6a86-7f00-4c61-c343-b5bdd8b1b008"
      },
      "execution_count": 18,
      "outputs": [
        {
          "output_type": "display_data",
          "data": {
            "text/plain": [
              "<Figure size 640x480 with 1 Axes>"
            ],
            "image/png": "[encoded data removed]"
          },
          "metadata": {}
        }
      ]
    },
    {
      "cell_type": "code",
      "source": [],
      "metadata": {
        "id": "Tu-oocyYj6mH"
      },
      "execution_count": null,
      "outputs": []
    }
  ]
}